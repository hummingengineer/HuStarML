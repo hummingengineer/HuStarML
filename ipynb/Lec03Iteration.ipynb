{
 "cells": [
  {
   "cell_type": "markdown",
   "metadata": {},
   "source": [
    "# Welcome to \"CrushPython\"\n",
    "\n",
    "__So whether you eat or drink or whatever you do, do it all for the glory of God.__ \n",
    "1 Corinthians 10:31\n",
    "\n",
    "\n",
    "------"
   ]
  },
  {
   "cell_type": "markdown",
   "metadata": {},
   "source": [
    "__NOTE:__ The following materials have been compiled and adapted from the numerous sources including Python and Canopy web sites including my own. Please help me to keep this tutorial up-to-date by reporting any issues or questions. Send any comments or criticisms to `idebtor@gmail.com` Your assistances and comments will be appreciated."
   ]
  },
  {
   "cell_type": "markdown",
   "metadata": {},
   "source": [
    "---------\n",
    "\n",
    "# Lesson - Iteration(For loop with range)\n",
    "\n",
    "------------\n",
    "\n",
    "# 1. Iteration using for loop  \n",
    "\n",
    "Often the program needs to repeat some code many times. That's where the loops come in handy. There are `for` and `while` loop operators in Python, in this lesson we cover for.\n",
    "\n",
    "The `for` loop iterates over any sequence. For instance, any string in Python is a sequence of its characters, so we can iterate over them using for:\n",
    "\n",
    "#### Example 1: Using `for` loop, print `hello` one character per line.\n",
    "Expected output:\n",
    "\n",
    "```\n",
    "h\n",
    "e\n",
    "l\n",
    "l\n",
    "o\n",
    "```"
   ]
  },
  {
   "cell_type": "code",
   "execution_count": null,
   "metadata": {},
   "outputs": [],
   "source": [
    "# print each letter using for loop\n",
    "for char in 'hello':\n",
    "    None"
   ]
  },
  {
   "cell_type": "code",
   "execution_count": 3,
   "metadata": {},
   "outputs": [
    {
     "name": "stdout",
     "output_type": "stream",
     "text": [
      "0\n",
      "1\n",
      "2\n",
      "3\n",
      "4\n"
     ]
    }
   ],
   "source": [
    "for char in range(5):\n",
    "    print(char)"
   ]
  },
  {
   "cell_type": "markdown",
   "metadata": {},
   "source": [
    "#### Example 2: Using `for` loop, print `hello` in one line.\n",
    "\n",
    "Expected output:\n",
    "\n",
    "```\n",
    "h e l l o \n",
    "```\n",
    "\n",
    "__Hint__: By default, the function `print()` prints all its arguments separating them by a space and the puts a newline symbol after it. This behavior can be changed using keyword arguments `sep` (separator) and `end`.\n"
   ]
  },
  {
   "cell_type": "code",
   "execution_count": 6,
   "metadata": {},
   "outputs": [
    {
     "name": "stdout",
     "output_type": "stream",
     "text": [
      "h e l l o "
     ]
    }
   ],
   "source": [
    "# print each letter using for loop in a row\n",
    "for char in 'hello':\n",
    "    print(char, end=' ')"
   ]
  },
  {
   "cell_type": "code",
   "execution_count": 4,
   "metadata": {},
   "outputs": [
    {
     "name": "stdout",
     "output_type": "stream",
     "text": [
      "Help on built-in function print in module builtins:\n",
      "\n",
      "print(...)\n",
      "    print(value, ..., sep=' ', end='\\n', file=sys.stdout, flush=False)\n",
      "    \n",
      "    Prints the values to a stream, or to sys.stdout by default.\n",
      "    Optional keyword arguments:\n",
      "    file:  a file-like object (stream); defaults to the current sys.stdout.\n",
      "    sep:   string inserted between values, default a space.\n",
      "    end:   string appended after the last value, default a newline.\n",
      "    flush: whether to forcibly flush the stream.\n",
      "\n"
     ]
    }
   ],
   "source": [
    "help(print)"
   ]
  },
  {
   "cell_type": "markdown",
   "metadata": {},
   "source": [
    "\n",
    "#### Example 3: Using `for` loop, print `hello` in one line wihtout spaces between chars.\n",
    "\n",
    "Expected output:\n",
    "```\n",
    "hello\n",
    "```"
   ]
  },
  {
   "cell_type": "code",
   "execution_count": 8,
   "metadata": {},
   "outputs": [
    {
     "name": "stdout",
     "output_type": "stream",
     "text": [
      "hello"
     ]
    }
   ],
   "source": [
    "# print each letter using for loop in a row without spaces\n",
    "for char in 'hello':\n",
    "    print(char, end='')"
   ]
  },
  {
   "cell_type": "markdown",
   "metadata": {},
   "source": [
    "#### Example 4: Modify the following code cell to produce the following output.\n",
    "\n",
    "Expected output:\n",
    "\n",
    "```\n",
    "1 2 3\n",
    "4 5 6\n",
    "1,2,3,4,5,6\n",
    "123--456\n",
    "```"
   ]
  },
  {
   "cell_type": "markdown",
   "metadata": {},
   "source": [
    "#### my solution:"
   ]
  },
  {
   "cell_type": "code",
   "execution_count": 15,
   "metadata": {},
   "outputs": [
    {
     "name": "stdout",
     "output_type": "stream",
     "text": [
      "1 2 3\n",
      "4 5 6\n",
      "1,2,3,4,5,6\n",
      "123--456\n"
     ]
    }
   ],
   "source": [
    "print(1, 2, 3)  # ok\n",
    "print(4, 5, 6)  # ok\n",
    "print(1, 2, 3, sep=',', end=',')\n",
    "print(4, 5, 6, sep=',')\n",
    "print(1, 2, 3, sep='', end='--')\n",
    "print(4, 5, 6, sep='')"
   ]
  },
  {
   "cell_type": "markdown",
   "metadata": {},
   "source": [
    "# 2. Iteration with for loop & range()\n",
    "\n",
    "Another use case for a for-loop is to iterate some integer variable in increasing or decreasing order. Such a sequence of integer can be created using the built-in function `range()`. The `range()` function returns a sequence of numbers, starting from 0 by default, and increments by 1 (by default), and ends at a specified number.\n",
    "\n",
    "__Syntax__\n",
    "\n",
    "```\n",
    "class range(stop)\n",
    "    - returns a sequence of numbers starting from 0 to stop - 1\n",
    "class range(start, stop[, step])\n",
    "    - returns the range of integers end at stop - 1.\n",
    "```\n",
    "\n",
    "__Parameters__\n",
    "\n",
    "- `start` - integer starting from which the sequence is returned\n",
    "- `stop`  - integer before which the sequence of integers is to be returned.\n",
    "- `step` (Optional) - integer value which determines the step in the sequence\n",
    "    \n",
    "The function `range(stop)` means that `start` is implicitly set to `0`:"
   ]
  },
  {
   "cell_type": "markdown",
   "metadata": {},
   "source": [
    "#### Example 1: Generate numbers from 0 to 5 and print them as shown below:\n",
    "```\n",
    "0, 1, 2, 3, 4, 5, \n",
    "```\n",
    "\n",
    "- Check what `range(6)` returns. "
   ]
  },
  {
   "cell_type": "code",
   "execution_count": 18,
   "metadata": {},
   "outputs": [
    {
     "name": "stdout",
     "output_type": "stream",
     "text": [
      "range(0, 6)\n",
      "0, 1, 2, 3, 4, 5, "
     ]
    }
   ],
   "source": [
    "iter = range(6)\n",
    "print(iter)\n",
    "for i in range(6):\n",
    "    print(i, end=', ')"
   ]
  },
  {
   "cell_type": "markdown",
   "metadata": {},
   "source": [
    "### Using `start` and `end` parameters in `range()`\n",
    "\n",
    "- Function `range(start, stop)` generates a sequence with numbers `start, start + 1, ..., start - 1`. \n",
    "- __The last number in `stop` is not included__.\n",
    "\n",
    "#### Example 2: Print the table of n cubed where n is 1 to 10 as shown below:\n",
    "\n",
    "```\n",
    "1 cubed is 1\n",
    "2 cubed is 8\n",
    "3 cubed is 27\n",
    "4 cubed is 64\n",
    "5 cubed is 125\n",
    "6 cubed is 216\n",
    "7 cubed is 343\n",
    "8 cubed is 512\n",
    "9 cubed is 729\n",
    "10 cubed is 1000\n",
    "```\n"
   ]
  },
  {
   "cell_type": "code",
   "execution_count": 21,
   "metadata": {},
   "outputs": [
    {
     "name": "stdout",
     "output_type": "stream",
     "text": [
      "1 cubed is 1\n",
      "2 cubed is 8\n",
      "3 cubed is 27\n",
      "4 cubed is 64\n",
      "5 cubed is 125\n",
      "6 cubed is 216\n",
      "7 cubed is 343\n",
      "8 cubed is 512\n",
      "9 cubed is 729\n",
      "10 cubed is 1000\n"
     ]
    }
   ],
   "source": [
    "for i in range(1, 11):\n",
    "    print(i, i ** 3, sep = ' cubed is ')"
   ]
  },
  {
   "cell_type": "markdown",
   "metadata": {},
   "source": [
    "#### Example 3: Given an integer n = 10, sum number from 1 to n, inclusively.\n",
    "\n",
    "Expected output:\n",
    "```\n",
    "Sum from 1 to 10 is 55\n",
    "```"
   ]
  },
  {
   "cell_type": "code",
   "execution_count": 31,
   "metadata": {},
   "outputs": [
    {
     "name": "stdout",
     "output_type": "stream",
     "text": [
      "Sum from 1 to 1000 is 500500\n"
     ]
    }
   ],
   "source": [
    "n = 1000\n",
    "sum = 0\n",
    "for x in range(n + 1):\n",
    "    sum += x\n",
    "\n",
    "print('Sum from 1 to {} is {}'.format(n, sum))"
   ]
  },
  {
   "cell_type": "markdown",
   "metadata": {},
   "source": [
    "#### Example 4: sum_to_n(n)\n",
    "\n",
    "- Generalize this capability of summing up to `n`. In other words, write a function, `sum_to_n(n)`, such that it returns 55 when `sum_to_n(10)` is invoked. \n",
    "- Complete the following code cells to sum the integers from `1` to `n` inclusively. \n",
    "\n",
    "```\n",
    "Sum from 1 to 10 is 55\n",
    "Sum from 1 to 100 is 5050\n",
    "Sum from 1 to 1000 is 500500\n",
    "Sum from 1 to 10000 is 50005000\n",
    "```"
   ]
  },
  {
   "cell_type": "code",
   "execution_count": 41,
   "metadata": {},
   "outputs": [],
   "source": [
    "# function to sum upto n inclusively.\n",
    "def sum_to_n(n):\n",
    "    sum = 0\n",
    "    for x in range(n + 1):\n",
    "        sum += x\n",
    "    return sum"
   ]
  },
  {
   "cell_type": "code",
   "execution_count": 45,
   "metadata": {
    "scrolled": false
   },
   "outputs": [
    {
     "name": "stdout",
     "output_type": "stream",
     "text": [
      "Sum from 1 to 10 is 55\n",
      "Sum from 1 to 100 is 5050\n",
      "Sum from 1 to 1000 is 500500\n",
      "Sum from 1 to 10000 is 50005000\n"
     ]
    }
   ],
   "source": [
    "# For testing\n",
    "for n in [10, 100, 1000, 10000]:\n",
    "    print('Sum from 1 to {} is {}'.format(n, sum_to_n(n)))"
   ]
  },
  {
   "cell_type": "markdown",
   "metadata": {},
   "source": [
    "Pay attention that maximum value in `range()` is `n + 1` to make `i` equal to `N` on the last step.\n",
    "\n",
    "To iterate over a decreasing sequence, we can use an extended form of `range()` with three arguments - `range(start, end, step)`. When omitted, the `step` is implicitly equal to `1`. However, can be any non-zero value. The loop always includes `start` and excludes `end` during iteration:"
   ]
  },
  {
   "cell_type": "markdown",
   "metadata": {},
   "source": [
    "#### Example 5: \n",
    "\n",
    "Count down a number starting n and print `blast off`. Complete the code to produce the following output when N = 5.\n",
    "\n",
    "```\n",
    "5\n",
    "4\n",
    "3\n",
    "2\n",
    "1\n",
    "blast off\n",
    "```\n",
    "\n",
    "#### Using a negative step size `-1`"
   ]
  },
  {
   "cell_type": "code",
   "execution_count": 46,
   "metadata": {},
   "outputs": [
    {
     "name": "stdout",
     "output_type": "stream",
     "text": [
      "Enter N: 5\n",
      "5\n",
      "4\n",
      "3\n",
      "2\n",
      "1\n",
      "blast off\n"
     ]
    }
   ],
   "source": [
    "N = int(input(\"Enter N: \"))\n",
    "for n in range(N, 0, -1):\n",
    "    print(n)\n",
    "print('blast off')"
   ]
  },
  {
   "cell_type": "markdown",
   "metadata": {},
   "source": [
    "#### Using `range(N)`"
   ]
  },
  {
   "cell_type": "code",
   "execution_count": 48,
   "metadata": {},
   "outputs": [
    {
     "name": "stdout",
     "output_type": "stream",
     "text": [
      "Enter N: 5\n",
      "5\n",
      "4\n",
      "3\n",
      "2\n",
      "1\n",
      "blast off\n"
     ]
    }
   ],
   "source": [
    "N = int(input(\"Enter N: \"))\n",
    "for i in range(N):\n",
    "    print(N - i)\n",
    "print('blast off')"
   ]
  },
  {
   "cell_type": "markdown",
   "metadata": {},
   "source": [
    "# Enumerate()\n",
    "\n",
    "Python gives you the luxury of iterating directly over the values of the list (or iterables) which is most of the time what you need. However, there are times when you actually need the index of the item as well.\n",
    "\n",
    "__Syntax__:\n",
    "```\n",
    "enumerate(iterable, start=0)\n",
    "```\n",
    "\n",
    "__Parameters__:\n",
    "- `iterable`: any object that supports iteration\n",
    "- `start`: the index value from which the counter is to be started, by default it is 0 "
   ]
  },
  {
   "cell_type": "markdown",
   "metadata": {},
   "source": [
    "              \n",
    "#### Example 1: Print a list in three different ways.\n",
    "\n",
    "Given list of car names, `cars = ['kia', 'audi', 'bmw', 'genesis']`, list car names with sequential numbers.\n",
    "\n",
    "\n",
    "#### Expected output(Case 1):\n",
    "\n",
    "```\n",
    "kia\n",
    "audi\n",
    "bmw\n",
    "genesis\n",
    "```"
   ]
  },
  {
   "cell_type": "code",
   "execution_count": 49,
   "metadata": {},
   "outputs": [
    {
     "name": "stdout",
     "output_type": "stream",
     "text": [
      "kia\n",
      "audi\n",
      "bmw\n",
      "genesis\n"
     ]
    }
   ],
   "source": [
    "cars = ['kia', 'audi', 'bmw', 'genesis']\n",
    "for car in cars:\n",
    "    print(car)\n",
    "    "
   ]
  },
  {
   "cell_type": "markdown",
   "metadata": {},
   "source": [
    "#### Expected output(Case 2):\n",
    "```\n",
    "(1, 'kia')\n",
    "(2, 'audi')\n",
    "(3, 'bmw')\n",
    "(4, 'genesis')\n",
    "```"
   ]
  },
  {
   "cell_type": "code",
   "execution_count": 52,
   "metadata": {},
   "outputs": [
    {
     "name": "stdout",
     "output_type": "stream",
     "text": [
      "<class 'tuple'>\n",
      "(1, 'kia')\n",
      "<class 'tuple'>\n",
      "(2, 'audi')\n",
      "<class 'tuple'>\n",
      "(3, 'bmw')\n",
      "<class 'tuple'>\n",
      "(4, 'genesis')\n"
     ]
    }
   ],
   "source": [
    "for car in enumerate(cars, 1):\n",
    "    print(type(car))\n",
    "    print(car)"
   ]
  },
  {
   "cell_type": "markdown",
   "metadata": {},
   "source": [
    "#### Expected output(Case 3):\n",
    "```\n",
    "1 kia\n",
    "2 audi\n",
    "3 bmw\n",
    "4 genesis\n",
    "```"
   ]
  },
  {
   "cell_type": "code",
   "execution_count": 54,
   "metadata": {},
   "outputs": [
    {
     "name": "stdout",
     "output_type": "stream",
     "text": [
      "2 kia\n",
      "4 audi\n",
      "6 bmw\n",
      "8 genesis\n"
     ]
    }
   ],
   "source": [
    "for i, car in enumerate(cars, 1):\n",
    "    print(i*2, car)"
   ]
  },
  {
   "cell_type": "markdown",
   "metadata": {},
   "source": [
    "#### Example 2: Print a list with its index\n",
    "\n",
    "Given list of names, `friends = ['Jane', 'Peter', 'John', 'Lee']`, modify the code cell such that it prouce the list with sequential numbers.\n",
    "\n",
    "```\n",
    "1: Jane\n",
    "2: Peter\n",
    "3: John\n",
    "4: Lee\n",
    "```"
   ]
  },
  {
   "cell_type": "markdown",
   "metadata": {},
   "source": [
    "####  Solution 1: Using an index but without using enumerate()"
   ]
  },
  {
   "cell_type": "code",
   "execution_count": 71,
   "metadata": {},
   "outputs": [
    {
     "name": "stdout",
     "output_type": "stream",
     "text": [
      "1: Jane\n",
      "2: Peter\n",
      "3: John\n",
      "4: Lee\n",
      "5: kim\n",
      "6: Kang\n"
     ]
    }
   ],
   "source": [
    "friends = ['Jane', 'Peter', 'John', 'Lee', 'kim', 'Kang']\n",
    "for i in range(len(friends)):\n",
    "    print(i + 1, friends[i], sep=': ')"
   ]
  },
  {
   "cell_type": "markdown",
   "metadata": {},
   "source": [
    "####  Solution 2: Using enumerate()"
   ]
  },
  {
   "cell_type": "code",
   "execution_count": 56,
   "metadata": {},
   "outputs": [
    {
     "name": "stdout",
     "output_type": "stream",
     "text": [
      "1: Jane\n",
      "2: Peter\n",
      "3: John\n",
      "4: Lee\n"
     ]
    }
   ],
   "source": [
    "friends = ['Jane', 'Peter', 'John', 'Lee']\n",
    "for i, friend in enumerate(friends, 1):\n",
    "    print(i, friend, sep=': ')"
   ]
  },
  {
   "cell_type": "markdown",
   "metadata": {},
   "source": [
    "## Exercises [모인활 숙제]\n",
    "\n",
    "#### 1. Count to N\n",
    "\n",
    "Get an integer N from the user, print all the numbers from 1 to N twice as shown below.\n",
    "```\n",
    "1\n",
    "2\n",
    "3\n",
    "4\n",
    "5\n",
    "1 2 3 4 5\n",
    "```"
   ]
  },
  {
   "cell_type": "code",
   "execution_count": null,
   "metadata": {},
   "outputs": [],
   "source": [
    "N = int(input(\"Enter N: \"))\n",
    "None"
   ]
  },
  {
   "cell_type": "markdown",
   "metadata": {},
   "source": [
    "#### 2. Print even numbers twice\n",
    "\n",
    "Given an integer N, print all even numbers from 0 to N in ascending order and descending order\n",
    "\n",
    "Sample runs:\n",
    "```\n",
    "Enter N: 5\n",
    "0 2 4 \n",
    "4 2 0\n",
    "\n",
    "Enter N: 10\n",
    "0 2 4 6 8 10 \n",
    "10 8 6 4 2 0\n",
    "\n",
    "Enter N: 11\n",
    "0 2 4 6 8 10 \n",
    "10 8 6 4 2 0\n",
    "\n",
    "Enter N: 14\n",
    "0 2 4 6 8 10 12 14 \n",
    "14 12 10 8 6 4 2 0\n",
    "```"
   ]
  },
  {
   "cell_type": "markdown",
   "metadata": {},
   "source": [
    "1 2 3 4 5"
   ]
  },
  {
   "cell_type": "code",
   "execution_count": null,
   "metadata": {},
   "outputs": [],
   "source": [
    "N = int(input(\"Enter N: \"))\n"
   ]
  },
  {
   "cell_type": "markdown",
   "metadata": {},
   "source": [
    "#### 3. Ladder \n",
    "\n",
    "For given integer n ≤ 9 print a ladder of n steps. The k-th step consists of the integers from 1 to k without spaces between them.\n",
    "To do that, you can use the sep and end arguments for the function print().\n",
    "\n",
    "```\n",
    "Enter N: 5\n",
    "1\n",
    "12\n",
    "123\n",
    "1234\n",
    "12345\n",
    "\n",
    "Enter N: 3\n",
    "1\n",
    "12\n",
    "123\n",
    "```"
   ]
  },
  {
   "cell_type": "code",
   "execution_count": null,
   "metadata": {},
   "outputs": [],
   "source": [
    "N = int(input('Enter N: '))\n",
    "\n",
    "None"
   ]
  },
  {
   "cell_type": "markdown",
   "metadata": {},
   "source": [
    "#### 4. Another Stair\n",
    "For given positive integer N ≤ 9 print a stair of N steps. The k-th step consists of k of 1's  without spaces between them.\n",
    "To do that, you can use the sep and end arguments for the function print().\n",
    "\n",
    "```\n",
    "Enter N: 5\n",
    "1\n",
    "11\n",
    "111\n",
    "1111\n",
    "11111\n",
    "\n",
    "Enter N: 4\n",
    "1\n",
    "11\n",
    "111\n",
    "1111\n",
    "```"
   ]
  },
  {
   "cell_type": "markdown",
   "metadata": {},
   "source": [
    "#### 5. Yet Another Stair\n",
    "\n",
    "For given positive integer N ≤ 9 print a stair of N steps. The k-th step consists of the integers from k to 1 without spaces between them.\n",
    "To do that, you can use the sep and end arguments for the function print().\n",
    "\n",
    "```\n",
    "Enter N: 5\n",
    "1\n",
    "21\n",
    "321\n",
    "4321\n",
    "54321\n",
    "\n",
    "Enter N: 4\n",
    "1\n",
    "21\n",
    "321\n",
    "4321\n",
    "```"
   ]
  },
  {
   "cell_type": "code",
   "execution_count": null,
   "metadata": {},
   "outputs": [],
   "source": [
    "N = int(input('Enter N: '))\n",
    "None"
   ]
  },
  {
   "cell_type": "markdown",
   "metadata": {},
   "source": [
    "---------\n",
    "__\"Everything is permissible\" - but not everything is beneficial. \"Everything is permissible\" - but not everything is constructive.__\n",
    "1 Corinthians 10:23\n",
    "    "
   ]
  }
 ],
 "metadata": {
  "kernelspec": {
   "display_name": "Python 3",
   "language": "python",
   "name": "python3"
  },
  "language_info": {
   "codemirror_mode": {
    "name": "ipython",
    "version": 3
   },
   "file_extension": ".py",
   "mimetype": "text/x-python",
   "name": "python",
   "nbconvert_exporter": "python",
   "pygments_lexer": "ipython3",
   "version": "3.7.7"
  }
 },
 "nbformat": 4,
 "nbformat_minor": 1
}
